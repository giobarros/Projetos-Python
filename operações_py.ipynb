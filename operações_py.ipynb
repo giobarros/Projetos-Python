{
  "nbformat": 4,
  "nbformat_minor": 0,
  "metadata": {
    "colab": {
      "provenance": [],
      "authorship_tag": "ABX9TyOCpHc77pk7KMn0Ch1kicEL",
      "include_colab_link": true
    },
    "kernelspec": {
      "name": "python3",
      "display_name": "Python 3"
    },
    "language_info": {
      "name": "python"
    }
  },
  "cells": [
    {
      "cell_type": "markdown",
      "metadata": {
        "id": "view-in-github",
        "colab_type": "text"
      },
      "source": [
        "<a href=\"https://colab.research.google.com/github/giobarros/Projetos-Python/blob/main/opera%C3%A7%C3%B5es_py.ipynb\" target=\"_parent\"><img src=\"https://colab.research.google.com/assets/colab-badge.svg\" alt=\"Open In Colab\"/></a>"
      ]
    },
    {
      "cell_type": "code",
      "source": [
        "while True:\n",
        "  n1 = int(input('Digite um número: '))\n",
        "  n2 = int(input('Digite outro número: '))\n",
        "  print('''[1] soma\n",
        "[2] subtração\n",
        "[3] multiplicação\n",
        "[4] divisão''')\n",
        "  o = int(input('Informe o número da operação: '))\n",
        "  if o == 1:\n",
        "    print('{} + {} = {}'.format(n1, n2, n1+n2))\n",
        "  elif o == 2:\n",
        "    print('{} - {} = {}'.format(n1, n2, n1-n2))\n",
        "  elif o == 3:\n",
        "    print('{} x {} = {}'.format(n1, n2, n1*n2))\n",
        "  elif o == 4:\n",
        "    print('{} : {} = {:.1f}'.format(n1, n2, n1/n2))\n",
        "  c = str(input('Quer continuar? ')).upper()[0]\n",
        "  if c == 'N':\n",
        "    break"
      ],
      "metadata": {
        "colab": {
          "base_uri": "https://localhost:8080/"
        },
        "id": "tvQIWq8EYvrk",
        "outputId": "531ce134-e65e-448a-e786-0c4a654208da"
      },
      "execution_count": 4,
      "outputs": [
        {
          "name": "stdout",
          "output_type": "stream",
          "text": [
            "Digite um número: 5\n",
            "Digite outro número: 1\n",
            "[1] soma\n",
            "[2] subtração\n",
            "[3] multiplicação\n",
            "[4] divisão\n",
            "Informe o número da operação: 3\n",
            "5 x 1 = 5\n",
            "Quer continuar? s\n",
            "Digite um número: 4\n",
            "Digite outro número: 2\n",
            "[1] soma\n",
            "[2] subtração\n",
            "[3] multiplicação\n",
            "[4] divisão\n",
            "Informe o número da operação: 1\n",
            "4 + 2 = 6\n",
            "Quer continuar? s\n",
            "Digite um número: -9\n",
            "Digite outro número: 5\n",
            "[1] soma\n",
            "[2] subtração\n",
            "[3] multiplicação\n",
            "[4] divisão\n",
            "Informe o número da operação: 2\n",
            "-9 - 5 = -14\n",
            "Quer continuar? s\n",
            "Digite um número: 45\n",
            "Digite outro número: 7\n",
            "[1] soma\n",
            "[2] subtração\n",
            "[3] multiplicação\n",
            "[4] divisão\n",
            "Informe o número da operação: 4\n",
            "45 : 7 = 6.4\n",
            "Quer continuar? n\n"
          ]
        }
      ]
    }
  ]
}